{
 "cells": [
  {
   "cell_type": "markdown",
   "source": [
    "# ***Amazon Machine Image (AMI)***\r\n",
    "\r\n",
    "### So, when you want to launch an EC2 instance, you need an operating system, few pre-installed software packages, memory and types of storage, etc. All these information is provided by Amazon Machine Image (AMI).\r\n",
    "\r\n",
    "+ ### AMI is defined as the information required to launch an EC2 instance in the cloud. This AMI forms a template for root volume of an instance. It controls the launch permissions and also takes care of storage mapping. They form the skeleton structure of an instance.\r\n",
    "\r\n",
    "+ ### Any number of instances can be launched from a single AMI.\r\n",
    "\r\n",
    "+ ### You can create your own AMI or use the existing AMI's created by AWS community or buy from AWS marketplace depending on the need.\r\n",
    "\r\n",
    "+ ### The number of AMIs available differ from region to region in AWS."
   ],
   "metadata": {}
  }
 ],
 "metadata": {
  "orig_nbformat": 4,
  "language_info": {
   "name": "python"
  }
 },
 "nbformat": 4,
 "nbformat_minor": 2
}
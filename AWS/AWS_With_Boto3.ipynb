{
 "cells": [
  {
   "cell_type": "markdown",
   "metadata": {},
   "source": [
    "# Learning Amazon Web Services (AWS) Boto3  \n",
    "  \n",
    "### Configuring credentials to connect to AWS  \n",
    "***Configuring credentials for ROOT user***\n",
    "```awscli\n",
    "aws configure --profile root\n",
    "```\n",
    "***Configuring credentials for IAM user***\n",
    "```awscli\n",
    "aws configure --profile devensuji\n",
    "```"
   ]
  },
  {
   "cell_type": "code",
   "execution_count": 1,
   "metadata": {},
   "outputs": [],
   "source": [
    "import boto3 "
   ]
  },
  {
   "cell_type": "code",
   "execution_count": 2,
   "metadata": {},
   "outputs": [
    {
     "name": "stdout",
     "output_type": "stream",
     "text": [
      "DevenSuji\n",
      "DrishtiDeven\n",
      "DuganthDeven\n",
      "PavithraDeven\n"
     ]
    }
   ],
   "source": [
    "# Creating a session to aws console using the IAM profile devensuji\n",
    "aws_management_console = boto3.session.Session(profile_name='devensuji')\n",
    "\n",
    "# From aws_management_console, creating a resource object for IAM\n",
    "aws_iam_console = aws_management_console.resource('iam')\n",
    "\n",
    "# Looping through all the users in the IAM console and printing the user name\n",
    "for each_user in aws_iam_console.users.all():\n",
    "    print(each_user.name)"
   ]
  },
  {
   "cell_type": "code",
   "execution_count": 3,
   "metadata": {},
   "outputs": [
    {
     "name": "stdout",
     "output_type": "stream",
     "text": [
      "global_admin\n"
     ]
    }
   ],
   "source": [
    "for each_group in aws_iam_console.groups.all():\n",
    "    print(each_group.name)"
   ]
  },
  {
   "cell_type": "code",
   "execution_count": 4,
   "metadata": {},
   "outputs": [
    {
     "name": "stdout",
     "output_type": "stream",
     "text": [
      "EC2 ID: i-06e6c4953e55ee7ff\n",
      "EC2 Instance Type: t2.micro\n",
      "EC2 State: stopped\n",
      "EC2 Public IP: None\n",
      "EC2 Private IP: 172.31.41.106\n",
      "EC2 Host Name: Master\n",
      "EC2 Security Group: SSH_Only\n"
     ]
    }
   ],
   "source": [
    "ec2_instance = aws_management_console.resource('ec2')  \n",
    "for each_ec2 in ec2_instance.instances.all():\n",
    "    print(f\"EC2 ID: {each_ec2.id}\")\n",
    "    print(f\"EC2 Instance Type: {each_ec2.instance_type}\")\n",
    "    print(f\"EC2 State: {each_ec2.state['Name']}\")\n",
    "    print(f\"EC2 Public IP: {each_ec2.public_ip_address}\")\n",
    "    print(f\"EC2 Private IP: {each_ec2.private_ip_address}\")\n",
    "    print(f\"EC2 Host Name: {each_ec2.key_name}\")\n",
    "    print(f\"EC2 Security Group: {each_ec2.security_groups[0]['GroupName']}\")"
   ]
  },
  {
   "cell_type": "code",
   "execution_count": 5,
   "metadata": {},
   "outputs": [],
   "source": [
    "s3_storage = aws_management_console.resource('s3')  \n",
    "for each_s3 in s3_storage.buckets.all():\n",
    "    print(each_s3)\n",
    "\n"
   ]
  },
  {
   "cell_type": "markdown",
   "metadata": {},
   "source": [
    "## <u>resource and client</u>\n",
    "  \n",
    "***Boto3 gives us two options to create session with AWS which are <u>resource and client</u>.***  \n",
    "  \n",
    "#### <u>resource</u>\n",
    "  \n",
    "* It is a high level object oriented service access and it is avaialble for only some of the aws services.  \n",
    "* It has access to only some of the resources as you can see from the below code.  \n",
    "* Objects can be accessed using the dotted notation.\n"
   ]
  },
  {
   "cell_type": "code",
   "execution_count": 6,
   "metadata": {},
   "outputs": [
    {
     "name": "stdout",
     "output_type": "stream",
     "text": [
      "['cloudformation', 'cloudwatch', 'dynamodb', 'ec2', 'glacier', 'iam', 'opsworks', 's3', 'sns', 'sqs']\n"
     ]
    }
   ],
   "source": [
    "print(aws_management_console.get_available_resources())"
   ]
  },
  {
   "cell_type": "markdown",
   "metadata": {},
   "source": [
    "#### <u>client</u>  \n",
    "* It is a low level service access and it is available for all the aws services.\n",
    "* The output will be in the form of dictionary.\n"
   ]
  },
  {
   "cell_type": "code",
   "execution_count": 7,
   "metadata": {},
   "outputs": [],
   "source": [
    "aws_management_console_root = boto3.session.Session(profile_name='root')"
   ]
  },
  {
   "cell_type": "code",
   "execution_count": 8,
   "metadata": {},
   "outputs": [],
   "source": [
    "aws_iam_console = aws_management_console.client('iam')"
   ]
  },
  {
   "cell_type": "code",
   "execution_count": 9,
   "metadata": {},
   "outputs": [
    {
     "data": {
      "text/plain": [
       "{'Users': [{'Path': '/',\n",
       "   'UserName': 'DevenSuji',\n",
       "   'UserId': 'AIDAUQGPVQ7PXKVW4ROMI',\n",
       "   'Arn': 'arn:aws:iam::309673166815:user/DevenSuji',\n",
       "   'CreateDate': datetime.datetime(2021, 12, 9, 6, 52, 36, tzinfo=tzutc()),\n",
       "   'PasswordLastUsed': datetime.datetime(2021, 12, 25, 4, 37, 56, tzinfo=tzutc())},\n",
       "  {'Path': '/',\n",
       "   'UserName': 'DrishtiDeven',\n",
       "   'UserId': 'AIDAUQGPVQ7P2WPRO3N32',\n",
       "   'Arn': 'arn:aws:iam::309673166815:user/DrishtiDeven',\n",
       "   'CreateDate': datetime.datetime(2021, 12, 9, 7, 19, 48, tzinfo=tzutc())},\n",
       "  {'Path': '/',\n",
       "   'UserName': 'DuganthDeven',\n",
       "   'UserId': 'AIDAUQGPVQ7PSAESC7QYB',\n",
       "   'Arn': 'arn:aws:iam::309673166815:user/DuganthDeven',\n",
       "   'CreateDate': datetime.datetime(2021, 12, 9, 7, 6, 30, tzinfo=tzutc())},\n",
       "  {'Path': '/',\n",
       "   'UserName': 'PavithraDeven',\n",
       "   'UserId': 'AIDAUQGPVQ7PSD4SHEJIP',\n",
       "   'Arn': 'arn:aws:iam::309673166815:user/PavithraDeven',\n",
       "   'CreateDate': datetime.datetime(2021, 12, 19, 14, 14, 1, tzinfo=tzutc())}],\n",
       " 'IsTruncated': False,\n",
       " 'ResponseMetadata': {'RequestId': '348e88bd-4432-4490-b492-97324344ce1b',\n",
       "  'HTTPStatusCode': 200,\n",
       "  'HTTPHeaders': {'x-amzn-requestid': '348e88bd-4432-4490-b492-97324344ce1b',\n",
       "   'content-type': 'text/xml',\n",
       "   'content-length': '1403',\n",
       "   'date': 'Sun, 26 Dec 2021 02:18:02 GMT'},\n",
       "  'RetryAttempts': 0}}"
      ]
     },
     "execution_count": 9,
     "metadata": {},
     "output_type": "execute_result"
    }
   ],
   "source": [
    "user_dump = aws_iam_console.list_users()\n",
    "user_dump"
   ]
  },
  {
   "cell_type": "code",
   "execution_count": 10,
   "metadata": {},
   "outputs": [
    {
     "data": {
      "text/plain": [
       "[{'Path': '/',\n",
       "  'UserName': 'DevenSuji',\n",
       "  'UserId': 'AIDAUQGPVQ7PXKVW4ROMI',\n",
       "  'Arn': 'arn:aws:iam::309673166815:user/DevenSuji',\n",
       "  'CreateDate': datetime.datetime(2021, 12, 9, 6, 52, 36, tzinfo=tzutc()),\n",
       "  'PasswordLastUsed': datetime.datetime(2021, 12, 25, 4, 37, 56, tzinfo=tzutc())},\n",
       " {'Path': '/',\n",
       "  'UserName': 'DrishtiDeven',\n",
       "  'UserId': 'AIDAUQGPVQ7P2WPRO3N32',\n",
       "  'Arn': 'arn:aws:iam::309673166815:user/DrishtiDeven',\n",
       "  'CreateDate': datetime.datetime(2021, 12, 9, 7, 19, 48, tzinfo=tzutc())},\n",
       " {'Path': '/',\n",
       "  'UserName': 'DuganthDeven',\n",
       "  'UserId': 'AIDAUQGPVQ7PSAESC7QYB',\n",
       "  'Arn': 'arn:aws:iam::309673166815:user/DuganthDeven',\n",
       "  'CreateDate': datetime.datetime(2021, 12, 9, 7, 6, 30, tzinfo=tzutc())},\n",
       " {'Path': '/',\n",
       "  'UserName': 'PavithraDeven',\n",
       "  'UserId': 'AIDAUQGPVQ7PSD4SHEJIP',\n",
       "  'Arn': 'arn:aws:iam::309673166815:user/PavithraDeven',\n",
       "  'CreateDate': datetime.datetime(2021, 12, 19, 14, 14, 1, tzinfo=tzutc())}]"
      ]
     },
     "execution_count": 10,
     "metadata": {},
     "output_type": "execute_result"
    }
   ],
   "source": [
    "user_dump['Users']"
   ]
  },
  {
   "cell_type": "code",
   "execution_count": 11,
   "metadata": {},
   "outputs": [
    {
     "name": "stdout",
     "output_type": "stream",
     "text": [
      "DevenSuji\n",
      "DrishtiDeven\n",
      "DuganthDeven\n",
      "PavithraDeven\n"
     ]
    }
   ],
   "source": [
    "for i in user_dump['Users']:\n",
    "    print(i['UserName'])"
   ]
  },
  {
   "cell_type": "markdown",
   "metadata": {},
   "source": [
    "## The CORE concepts of Boto3 are:\n",
    "* ***Session***\n",
    "* ***Resource***\n",
    "* ***Client***\n",
    "* ***Meta***\n",
    "* ***Collections***\n",
    "* ***Waiters***\n",
    "* ***Paginators***"
   ]
  }
 ],
 "metadata": {
  "interpreter": {
   "hash": "fbb98bb154d8c9f9069922f89824353d3bddf18bb06ff4d192b24bff20fe3e16"
  },
  "kernelspec": {
   "display_name": "Python 3.9.1 64-bit",
   "language": "python",
   "name": "python3"
  },
  "language_info": {
   "codemirror_mode": {
    "name": "ipython",
    "version": 3
   },
   "file_extension": ".py",
   "mimetype": "text/x-python",
   "name": "python",
   "nbconvert_exporter": "python",
   "pygments_lexer": "ipython3",
   "version": "3.9.1"
  },
  "orig_nbformat": 4
 },
 "nbformat": 4,
 "nbformat_minor": 2
}

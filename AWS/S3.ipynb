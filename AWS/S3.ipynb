{
 "cells": [
  {
   "cell_type": "markdown",
   "source": [
    "# Amazon S3"
   ],
   "metadata": {}
  },
  {
   "cell_type": "markdown",
   "source": [
    "# Amazon S3 Data consistency model\r\n",
    "### Amazon S3 follows client centric consistency model, this is emphasized on how data is seen by the clients after it is created or updated or deleted.\r\n",
    "\r\n",
    "### S3 provides read-after-write consistency for PUTS of new objects into an S3 bucket i.e., A newly inserted data item will be immediately visible to clients. with a limitation that if you make a GET or HEAD request to an object before creating it, S3 provides eventual consistency i.e., If no new updates are made to a particular piece of data, eventually all reads to that item will return the last updated value.\r\n",
    "\r\n",
    "### S3 offers eventual consistency for overwrite PUTS and DELETES in all regions.\r\n",
    "\r\n",
    "### This read-after-write consistency allows you to build distributed systems with less latency\r\n",
    "\r\n",
    "### Amazon S3 provide eventual consistency in US standard region for all requests."
   ],
   "metadata": {}
  },
  {
   "cell_type": "code",
   "execution_count": 1,
   "source": [
    "import boto3"
   ],
   "outputs": [],
   "metadata": {}
  },
  {
   "cell_type": "code",
   "execution_count": 5,
   "source": [
    "s3 = boto3.resource('s3')\r\n",
    "for bucket in s3.buckets.all():\r\n",
    "    print(bucket.name)"
   ],
   "outputs": [
    {
     "output_type": "stream",
     "name": "stdout",
     "text": [
      "lovelyfurnitures\n"
     ]
    }
   ],
   "metadata": {}
  },
  {
   "cell_type": "markdown",
   "source": [
    "# AWS S3 Pricing\r\n",
    "+ ### A new customer can get a free usage tier for one year which includes\r\n",
    "    + ### 5 GB of Amazon S3 storage in the Standard Storage class\r\n",
    "    + ### 20,000 Get Requests\r\n",
    "    + ### 2,000 Put Requests\r\n",
    "    + ### 15 GB of data transfer out each month for one year.\r\n",
    "+ ### The Storage prices vary with region and it is different for different storage classes with Standard storage having high price and Glacier with lowest per gb price.\r\n",
    "+ ### Pricing also depends on the data stored or requests made, transfers into and out of bucket, and also for transfer acceleration, cross region replication."
   ],
   "metadata": {}
  },
  {
   "cell_type": "markdown",
   "source": [
    "# S3 Storage Classes\r\n",
    "+ ## S3 Standard:\r\n",
    "    + ### Used for frequently accessed data offering high durability, availability and performance.\r\n",
    "\r\n",
    "    + ### S3 standard is used for various cases like cloud applications, dynamic websites, gaming, content distribution, Big data analytics and so on.\r\n",
    "    + ### In this type of storage, data is resilient in the event of one entire availability zone destruction.\r\n",
    "+ ## S3 Standard - Infrequent Access:\r\n",
    "    + ### This is used for infrequently accessed data but accessed rapidly when required.\r\n",
    "    + ### This also offers high durability, availability, and performance but with a low per GB storage and retrieval fee making S3 Standard-IA ideal for long-term storage, backups and as a data store for disaster recovery.\r\n",
    "+ ## Amazon S3 One Zone-Infrequent Access:\r\n",
    "    ### Unlike S3 Standard-IA this S3 One Zone-Infrequent Access stores data in a single availability zone.  \r\n",
    "    + ### This is 20% cheaper than the S3 Standard-IA.\r\n",
    "    + ### Best suited for secondary backup copy storages or for data that is cross region replicated.\r\n",
    "    + ### Data stored in this will be lost in the event of availability zone destruction.\r\n",
    "+ ## S3 Glacier:\r\n",
    "    + ### Amazon Glacier is a data archiving service which is highly durable, extremely low cost, and secure, for varying retrieval needs.\r\n",
    "    + ### Amazon Glacier provides three options for access to archives, from a few minutes to several hours.\r\n",
    "    + ### Data is resilient in the event of one entire Availability Zone destruction."
   ],
   "metadata": {}
  },
  {
   "cell_type": "markdown",
   "source": [
    "# S3 Buckets and Folders\r\n",
    "\r\n",
    "### In S3 there is no concept of filesystem or hierarchy all the objects uploaded are same in the space of a bucket.\r\n",
    "\r\n",
    "### The concept of Folders in S3 is more logical than physical, when you create a folder in s3 there will not exist a physical folder but a group of objects having same common first name or prefix. Its same in the case if you upload a folder.\r\n",
    "\r\n",
    "### For example, if you upload a folder called images that contains two files, sample1.jpg and sample2.jpg, Amazon S3 uploads the files and then assigns the corresponding key names, images/sample1.jpg and images/sample2.jpg.The key names include the folder name as a prefix."
   ],
   "metadata": {}
  },
  {
   "cell_type": "markdown",
   "source": [
    "# AWS CLI commands for basic operations\r\n",
    "### Let's learn some basic CLI commands that are used to perform some important operations:\r\n",
    "\r\n",
    "+ ### To create a new bucket:\r\n",
    "***aws s3 mb s3://bucket-name***\r\n",
    "+ ### To delete a bucket:\r\n",
    "***aws s3 rb s3://bucket-name***\r\n",
    "+ ### or\r\n",
    "***aws s3 rb s3://bucket-name --force***\r\n",
    "+ ### To copy files from a device:\r\n",
    "***aws s3 cp filename s3://bucket-name***\r\n",
    "+ ### To copy files recursively:\r\n",
    "***aws s3 cp . s3://bucket-name --recursive***"
   ],
   "metadata": {}
  }
 ],
 "metadata": {
  "orig_nbformat": 4,
  "language_info": {
   "name": "python",
   "version": "3.9.1",
   "mimetype": "text/x-python",
   "codemirror_mode": {
    "name": "ipython",
    "version": 3
   },
   "pygments_lexer": "ipython3",
   "nbconvert_exporter": "python",
   "file_extension": ".py"
  },
  "kernelspec": {
   "name": "python3",
   "display_name": "Python 3.9.1 64-bit"
  },
  "interpreter": {
   "hash": "fbb98bb154d8c9f9069922f89824353d3bddf18bb06ff4d192b24bff20fe3e16"
  }
 },
 "nbformat": 4,
 "nbformat_minor": 2
}